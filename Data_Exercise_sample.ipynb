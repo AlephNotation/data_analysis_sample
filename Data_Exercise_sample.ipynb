{
 "cells": [
  {
   "cell_type": "markdown",
   "metadata": {},
   "source": [
    "## Prompt\n",
    "2) Use Python to answer these questions:\n",
    "    - a. Which state has the highest average loan amount?\n",
    "    - b. Which state has the highest taxes as a % of property value?\n",
    "    - c. Which variable is the strongest predictor of maintenance expense (as a percentage of property value)? What is your interpretation of the result?\n",
    "    - d. What is the median, range and variance in Loan to Value of our loans? What might this tell us about how deterministic loan amount calculations are?\n",
    "    - e. Do properties with larger valuations exhibit any economies of scale with regardto expenses? Why do you think this is?\n",
    "\n",
    "3) Please create graphs depicting the following. Feel free to use any tools that you thinkwould help.\n",
    "    - a. Expense ratio (Total Operating Expenses/ Effective Gross Income) vs state\n",
    "    - b. Relationship between age of property and expenses\n",
    "    - c. Cumulative loan amount by fiscal quarter\n",
    "4) Using Scikit-Learn or a library of your choice, create a model that predicts loan to value. How accurate is your model? What would be required to improve this score?\n"
   ]
  },
  {
   "cell_type": "code",
   "execution_count": 1,
   "metadata": {
    "collapsed": true
   },
   "outputs": [],
   "source": [
    "#Need to take care of the matplotlib first\n",
    "%matplotlib inline\n",
    "import matplotlib.pyplot as plt"
   ]
  },
  {
   "cell_type": "code",
   "execution_count": 2,
   "metadata": {
    "collapsed": true
   },
   "outputs": [],
   "source": [
    "import warnings\n",
    "warnings.filterwarnings('ignore')\n",
    "warnings.filterwarnings(\"ignore\", category=DeprecationWarning) "
   ]
  },
  {
   "cell_type": "code",
   "execution_count": 3,
   "metadata": {
    "collapsed": true
   },
   "outputs": [],
   "source": [
    "#commonly used packages defined at the top\n",
    "import pandas as pd\n",
    "import numpy as np\n",
    "import sklearn\n",
    "from Dora import Dora\n",
    "import datetime "
   ]
  },
  {
   "cell_type": "markdown",
   "metadata": {},
   "source": [
    "# Setup and Data Cleaning"
   ]
  },
  {
   "cell_type": "code",
   "execution_count": 4,
   "metadata": {},
   "outputs": [],
   "source": [
    "#define date columns, read zipcodes to be strings,  and read in re_data.csv\n",
    "parse_dates = ['First Payment Date', 'Maturity Date']\n",
    "data = pd.read_csv(\"../data_analysis_sample/Data/re_data.csv\",\n",
    "                   dtype={'First Payment Date':str, 'Maturity Date':str,'Zip':str},\n",
    "                   parse_dates=parse_dates)\n",
    "#read in zipcode database\n",
    "zipcodes = pd.read_csv(\"../data_analysis_sample/Data/free-zipcode-database-Primary.csv\", dtype={'Zipcode':str})"
   ]
  },
  {
   "cell_type": "code",
   "execution_count": 5,
   "metadata": {},
   "outputs": [
    {
     "data": {
      "text/html": [
       "<div>\n",
       "<style>\n",
       "    .dataframe thead tr:only-child th {\n",
       "        text-align: right;\n",
       "    }\n",
       "\n",
       "    .dataframe thead th {\n",
       "        text-align: left;\n",
       "    }\n",
       "\n",
       "    .dataframe tbody tr th {\n",
       "        vertical-align: top;\n",
       "    }\n",
       "</style>\n",
       "<table border=\"1\" class=\"dataframe\">\n",
       "  <thead>\n",
       "    <tr style=\"text-align: right;\">\n",
       "      <th></th>\n",
       "      <th>First Payment Date</th>\n",
       "      <th>Maturity Date</th>\n",
       "      <th>Loan Amount</th>\n",
       "      <th>Zip</th>\n",
       "      <th>Property Value</th>\n",
       "      <th>Year Built</th>\n",
       "      <th>Net Operating Income</th>\n",
       "      <th>Effective Gross Income</th>\n",
       "      <th>Total Operating Expenses</th>\n",
       "      <th>Maintenance Expense</th>\n",
       "      <th>Parking Expense</th>\n",
       "      <th>Taxes Expense</th>\n",
       "      <th>Insurance Expense</th>\n",
       "      <th>Utilities Expense</th>\n",
       "      <th>Payroll Expense</th>\n",
       "      <th>State</th>\n",
       "    </tr>\n",
       "  </thead>\n",
       "  <tbody>\n",
       "    <tr>\n",
       "      <th>0</th>\n",
       "      <td>2017-06-01</td>\n",
       "      <td>2022-05-01</td>\n",
       "      <td>2143864.02</td>\n",
       "      <td>60077</td>\n",
       "      <td>3003400.24</td>\n",
       "      <td>1965</td>\n",
       "      <td>153643.96</td>\n",
       "      <td>282027.80</td>\n",
       "      <td>125597.78</td>\n",
       "      <td>18793.51</td>\n",
       "      <td>4608.95</td>\n",
       "      <td>41580.76</td>\n",
       "      <td>9110.30</td>\n",
       "      <td>11233.91</td>\n",
       "      <td>12215.12</td>\n",
       "      <td>IL</td>\n",
       "    </tr>\n",
       "    <tr>\n",
       "      <th>1</th>\n",
       "      <td>2017-06-01</td>\n",
       "      <td>2037-05-01</td>\n",
       "      <td>1445991.78</td>\n",
       "      <td>33441</td>\n",
       "      <td>1798349.3</td>\n",
       "      <td>1960</td>\n",
       "      <td>105282.69</td>\n",
       "      <td>180649.26</td>\n",
       "      <td>75213.72</td>\n",
       "      <td>14200.86</td>\n",
       "      <td>0.00</td>\n",
       "      <td>32705.82</td>\n",
       "      <td>13001.24</td>\n",
       "      <td>0.00</td>\n",
       "      <td>0.00</td>\n",
       "      <td>FL</td>\n",
       "    </tr>\n",
       "    <tr>\n",
       "      <th>2</th>\n",
       "      <td>2017-06-01</td>\n",
       "      <td>2037-05-01</td>\n",
       "      <td>2725017.88</td>\n",
       "      <td>94597</td>\n",
       "      <td>1653153.29</td>\n",
       "      <td>1959</td>\n",
       "      <td>230180.51</td>\n",
       "      <td>305261.44</td>\n",
       "      <td>71830.08</td>\n",
       "      <td>11574.56</td>\n",
       "      <td>0.00</td>\n",
       "      <td>39049.76</td>\n",
       "      <td>3869.46</td>\n",
       "      <td>381.04</td>\n",
       "      <td>0.00</td>\n",
       "      <td>CA</td>\n",
       "    </tr>\n",
       "    <tr>\n",
       "      <th>3</th>\n",
       "      <td>2017-07-01</td>\n",
       "      <td>2037-06-01</td>\n",
       "      <td>4203448.93</td>\n",
       "      <td>95670</td>\n",
       "      <td>7554077.66</td>\n",
       "      <td>1976</td>\n",
       "      <td>509272.80</td>\n",
       "      <td>890801.66</td>\n",
       "      <td>417618.92</td>\n",
       "      <td>82308.66</td>\n",
       "      <td>0.00</td>\n",
       "      <td>51614.93</td>\n",
       "      <td>11441.55</td>\n",
       "      <td>25899.44</td>\n",
       "      <td>104574.43</td>\n",
       "      <td>CA</td>\n",
       "    </tr>\n",
       "    <tr>\n",
       "      <th>4</th>\n",
       "      <td>2017-06-01</td>\n",
       "      <td>2027-05-01</td>\n",
       "      <td>872183.47</td>\n",
       "      <td>90008</td>\n",
       "      <td>1306139.1</td>\n",
       "      <td>1952</td>\n",
       "      <td>68206.10</td>\n",
       "      <td>101021.26</td>\n",
       "      <td>34641.78</td>\n",
       "      <td>7161.38</td>\n",
       "      <td>0.00</td>\n",
       "      <td>11057.87</td>\n",
       "      <td>3008.81</td>\n",
       "      <td>6592.98</td>\n",
       "      <td>0.00</td>\n",
       "      <td>CA</td>\n",
       "    </tr>\n",
       "  </tbody>\n",
       "</table>\n",
       "</div>"
      ],
      "text/plain": [
       "  First Payment Date Maturity Date  Loan Amount    Zip Property Value  \\\n",
       "0         2017-06-01    2022-05-01   2143864.02  60077     3003400.24   \n",
       "1         2017-06-01    2037-05-01   1445991.78  33441      1798349.3   \n",
       "2         2017-06-01    2037-05-01   2725017.88  94597     1653153.29   \n",
       "3         2017-07-01    2037-06-01   4203448.93  95670     7554077.66   \n",
       "4         2017-06-01    2027-05-01    872183.47  90008      1306139.1   \n",
       "\n",
       "  Year Built  Net Operating Income  Effective Gross Income  \\\n",
       "0       1965             153643.96               282027.80   \n",
       "1       1960             105282.69               180649.26   \n",
       "2       1959             230180.51               305261.44   \n",
       "3       1976             509272.80               890801.66   \n",
       "4       1952              68206.10               101021.26   \n",
       "\n",
       "   Total Operating Expenses  Maintenance Expense  Parking Expense  \\\n",
       "0                 125597.78             18793.51          4608.95   \n",
       "1                  75213.72             14200.86             0.00   \n",
       "2                  71830.08             11574.56             0.00   \n",
       "3                 417618.92             82308.66             0.00   \n",
       "4                  34641.78              7161.38             0.00   \n",
       "\n",
       "   Taxes Expense  Insurance Expense  Utilities Expense  Payroll Expense State  \n",
       "0       41580.76            9110.30           11233.91         12215.12    IL  \n",
       "1       32705.82           13001.24               0.00             0.00    FL  \n",
       "2       39049.76            3869.46             381.04             0.00    CA  \n",
       "3       51614.93           11441.55           25899.44        104574.43    CA  \n",
       "4       11057.87            3008.81            6592.98             0.00    CA  "
      ]
     },
     "execution_count": 5,
     "metadata": {},
     "output_type": "execute_result"
    }
   ],
   "source": [
    "#clean out the columns we don't want and merge state into the data brick\n",
    "state = zipcodes[['Zipcode', 'State']]\n",
    "state2 = state.rename(columns={'Zipcode':'Zip'})\n",
    "data2 = data.merge(state2, on=\"Zip\")\n",
    "data2.head()"
   ]
  },
  {
   "cell_type": "markdown",
   "metadata": {},
   "source": [
    "Let's do some high level exploration\n"
   ]
  },
  {
   "cell_type": "code",
   "execution_count": 6,
   "metadata": {},
   "outputs": [
    {
     "data": {
      "text/plain": [
       "First Payment Date          datetime64[ns]\n",
       "Maturity Date               datetime64[ns]\n",
       "Loan Amount                        float64\n",
       "Zip                                 object\n",
       "Property Value                      object\n",
       "Year Built                          object\n",
       "Net Operating Income               float64\n",
       "Effective Gross Income             float64\n",
       "Total Operating Expenses           float64\n",
       "Maintenance Expense                float64\n",
       "Parking Expense                    float64\n",
       "Taxes Expense                      float64\n",
       "Insurance Expense                  float64\n",
       "Utilities Expense                  float64\n",
       "Payroll Expense                    float64\n",
       "State                               object\n",
       "dtype: object"
      ]
     },
     "execution_count": 6,
     "metadata": {},
     "output_type": "execute_result"
    }
   ],
   "source": [
    "#Check the data type of each column\n",
    "data2.dtypes"
   ]
  },
  {
   "cell_type": "markdown",
   "metadata": {},
   "source": [
    "Oh no! That's not good. Some the columns that we expect to be numbers are being treated as objects. We need to fix that. To fix we'll isolate the numeric columns then convert them to their proper type, then merge them back into our object cols.\n"
   ]
  },
  {
   "cell_type": "code",
   "execution_count": 7,
   "metadata": {},
   "outputs": [
    {
     "data": {
      "text/plain": [
       "First Payment Date          datetime64[ns]\n",
       "Maturity Date               datetime64[ns]\n",
       "Zip                                 object\n",
       "State                               object\n",
       "Effective Gross Income             float64\n",
       "Insurance Expense                  float64\n",
       "Loan Amount                        float64\n",
       "Maintenance Expense                float64\n",
       "Net Operating Income               float64\n",
       "Parking Expense                    float64\n",
       "Payroll Expense                    float64\n",
       "Property Value                     float64\n",
       "Taxes Expense                      float64\n",
       "Total Operating Expenses           float64\n",
       "Utilities Expense                  float64\n",
       "Year Built                         float64\n",
       "dtype: object"
      ]
     },
     "execution_count": 7,
     "metadata": {},
     "output_type": "execute_result"
    }
   ],
   "source": [
    "#isolate good cols\n",
    "object_cols = ['First Payment Date', 'Maturity Date','Zip', 'State']\n",
    "object_df = data2[object_cols]\n",
    "\n",
    "#force convert columns to numeric\n",
    "to_numeric_cols = data2[data2.columns.difference(object_cols)]\n",
    "numeric_cols = to_numeric_cols.apply(pd.to_numeric, errors='coerce')\n",
    "\n",
    "#Join the subsets back together\n",
    "data3 = pd.concat([object_df, numeric_cols], axis = 1)\n",
    "#check to make sure it worked\n",
    "data3.dtypes"
   ]
  },
  {
   "cell_type": "markdown",
   "metadata": {},
   "source": [
    "## Which\tstate\thas\tthe\thighest\taverage\tloan\tamount?"
   ]
  },
  {
   "cell_type": "markdown",
   "metadata": {},
   "source": [
    " Let's start by trusting the validity of our dat set."
   ]
  },
  {
   "cell_type": "code",
   "execution_count": 8,
   "metadata": {},
   "outputs": [
    {
     "data": {
      "text/plain": [
       "'OH'"
      ]
     },
     "execution_count": 8,
     "metadata": {},
     "output_type": "execute_result"
    }
   ],
   "source": [
    "avg_loan_by_state = data3.groupby(['State']).agg({'Loan Amount':'mean'})\n",
    "avg_loan_by_state['Loan Amount'].argmax()"
   ]
  },
  {
   "cell_type": "markdown",
   "metadata": {},
   "source": [
    "Ok, our data says Ohio has the highest average loan amount, but what about missing values? If our data contains lots of 0's then we'll get a misleading answer. So let's filter out all the zero values and run it again."
   ]
  },
  {
   "cell_type": "code",
   "execution_count": 9,
   "metadata": {},
   "outputs": [
    {
     "data": {
      "text/plain": [
       "'UT'"
      ]
     },
     "execution_count": 9,
     "metadata": {},
     "output_type": "execute_result"
    }
   ],
   "source": [
    "filtered_loan_amount = data3.loc[data3['Loan Amount'] > 0]\n",
    "avg_loan_by_state2 = filtered_loan_amount.groupby(['State']).agg({'Loan Amount':'mean'})\n",
    "avg_loan_by_state2['Loan Amount'].argmax()"
   ]
  },
  {
   "cell_type": "markdown",
   "metadata": {},
   "source": [
    "We're getting two different answers. Let's see which one we should go with."
   ]
  },
  {
   "cell_type": "code",
   "execution_count": 10,
   "metadata": {},
   "outputs": [
    {
     "data": {
      "text/html": [
       "<div>\n",
       "<style>\n",
       "    .dataframe thead tr:only-child th {\n",
       "        text-align: right;\n",
       "    }\n",
       "\n",
       "    .dataframe thead th {\n",
       "        text-align: left;\n",
       "    }\n",
       "\n",
       "    .dataframe tbody tr th {\n",
       "        vertical-align: top;\n",
       "    }\n",
       "</style>\n",
       "<table border=\"1\" class=\"dataframe\">\n",
       "  <thead>\n",
       "    <tr style=\"text-align: right;\">\n",
       "      <th></th>\n",
       "      <th>First Payment Date</th>\n",
       "      <th>Maturity Date</th>\n",
       "      <th>Zip</th>\n",
       "      <th>State</th>\n",
       "      <th>Effective Gross Income</th>\n",
       "      <th>Insurance Expense</th>\n",
       "      <th>Loan Amount</th>\n",
       "      <th>Maintenance Expense</th>\n",
       "      <th>Net Operating Income</th>\n",
       "      <th>Parking Expense</th>\n",
       "      <th>Payroll Expense</th>\n",
       "      <th>Property Value</th>\n",
       "      <th>Taxes Expense</th>\n",
       "      <th>Total Operating Expenses</th>\n",
       "      <th>Utilities Expense</th>\n",
       "      <th>Year Built</th>\n",
       "    </tr>\n",
       "  </thead>\n",
       "  <tbody>\n",
       "    <tr>\n",
       "      <th>236</th>\n",
       "      <td>2017-07-01</td>\n",
       "      <td>2027-06-01</td>\n",
       "      <td>43224</td>\n",
       "      <td>OH</td>\n",
       "      <td>4192275.00</td>\n",
       "      <td>111675.35</td>\n",
       "      <td>18801703.40</td>\n",
       "      <td>511314.83</td>\n",
       "      <td>1732389.58</td>\n",
       "      <td>0.00</td>\n",
       "      <td>661810.70</td>\n",
       "      <td>24588074.40</td>\n",
       "      <td>200818.13</td>\n",
       "      <td>2426128.70</td>\n",
       "      <td>566091.57</td>\n",
       "      <td>1969.0</td>\n",
       "    </tr>\n",
       "    <tr>\n",
       "      <th>440</th>\n",
       "      <td>2017-05-01</td>\n",
       "      <td>2027-04-01</td>\n",
       "      <td>43105</td>\n",
       "      <td>OH</td>\n",
       "      <td>328522.69</td>\n",
       "      <td>6556.69</td>\n",
       "      <td>994189.65</td>\n",
       "      <td>33916.11</td>\n",
       "      <td>124303.74</td>\n",
       "      <td>0.00</td>\n",
       "      <td>38490.95</td>\n",
       "      <td>1642580.97</td>\n",
       "      <td>20534.62</td>\n",
       "      <td>215443.62</td>\n",
       "      <td>65690.83</td>\n",
       "      <td>1972.0</td>\n",
       "    </tr>\n",
       "    <tr>\n",
       "      <th>493</th>\n",
       "      <td>2017-04-01</td>\n",
       "      <td>2027-03-01</td>\n",
       "      <td>43068</td>\n",
       "      <td>OH</td>\n",
       "      <td>1457243.14</td>\n",
       "      <td>34229.46</td>\n",
       "      <td>7031185.74</td>\n",
       "      <td>117195.11</td>\n",
       "      <td>658203.66</td>\n",
       "      <td>0.00</td>\n",
       "      <td>174246.39</td>\n",
       "      <td>9054781.76</td>\n",
       "      <td>241007.82</td>\n",
       "      <td>819063.26</td>\n",
       "      <td>19896.85</td>\n",
       "      <td>1988.0</td>\n",
       "    </tr>\n",
       "    <tr>\n",
       "      <th>582</th>\n",
       "      <td>2016-10-01</td>\n",
       "      <td>2028-09-01</td>\n",
       "      <td>44122</td>\n",
       "      <td>OH</td>\n",
       "      <td>5946919.67</td>\n",
       "      <td>114166.17</td>\n",
       "      <td>66827631.60</td>\n",
       "      <td>178392.29</td>\n",
       "      <td>3634960.67</td>\n",
       "      <td>209666.53</td>\n",
       "      <td>431222.25</td>\n",
       "      <td>84995692.59</td>\n",
       "      <td>1071560.48</td>\n",
       "      <td>2235783.05</td>\n",
       "      <td>110387.30</td>\n",
       "      <td>2015.0</td>\n",
       "    </tr>\n",
       "    <tr>\n",
       "      <th>641</th>\n",
       "      <td>2017-02-01</td>\n",
       "      <td>2027-01-01</td>\n",
       "      <td>44143</td>\n",
       "      <td>OH</td>\n",
       "      <td>3488346.06</td>\n",
       "      <td>74682.31</td>\n",
       "      <td>16225172.22</td>\n",
       "      <td>418923.94</td>\n",
       "      <td>1399127.07</td>\n",
       "      <td>15618.09</td>\n",
       "      <td>462406.10</td>\n",
       "      <td>22850366.54</td>\n",
       "      <td>433836.89</td>\n",
       "      <td>2201311.43</td>\n",
       "      <td>405747.42</td>\n",
       "      <td>1965.0</td>\n",
       "    </tr>\n",
       "    <tr>\n",
       "      <th>848</th>\n",
       "      <td>2016-08-01</td>\n",
       "      <td>2023-07-01</td>\n",
       "      <td>45805</td>\n",
       "      <td>OH</td>\n",
       "      <td>850479.07</td>\n",
       "      <td>28114.05</td>\n",
       "      <td>3218960.87</td>\n",
       "      <td>105848.21</td>\n",
       "      <td>392128.61</td>\n",
       "      <td>4936.79</td>\n",
       "      <td>111677.50</td>\n",
       "      <td>4339042.82</td>\n",
       "      <td>57949.97</td>\n",
       "      <td>460003.39</td>\n",
       "      <td>88322.20</td>\n",
       "      <td>1971.0</td>\n",
       "    </tr>\n",
       "  </tbody>\n",
       "</table>\n",
       "</div>"
      ],
      "text/plain": [
       "    First Payment Date Maturity Date    Zip State  Effective Gross Income  \\\n",
       "236         2017-07-01    2027-06-01  43224    OH              4192275.00   \n",
       "440         2017-05-01    2027-04-01  43105    OH               328522.69   \n",
       "493         2017-04-01    2027-03-01  43068    OH              1457243.14   \n",
       "582         2016-10-01    2028-09-01  44122    OH              5946919.67   \n",
       "641         2017-02-01    2027-01-01  44143    OH              3488346.06   \n",
       "848         2016-08-01    2023-07-01  45805    OH               850479.07   \n",
       "\n",
       "     Insurance Expense  Loan Amount  Maintenance Expense  \\\n",
       "236          111675.35  18801703.40            511314.83   \n",
       "440            6556.69    994189.65             33916.11   \n",
       "493           34229.46   7031185.74            117195.11   \n",
       "582          114166.17  66827631.60            178392.29   \n",
       "641           74682.31  16225172.22            418923.94   \n",
       "848           28114.05   3218960.87            105848.21   \n",
       "\n",
       "     Net Operating Income  Parking Expense  Payroll Expense  Property Value  \\\n",
       "236            1732389.58             0.00        661810.70     24588074.40   \n",
       "440             124303.74             0.00         38490.95      1642580.97   \n",
       "493             658203.66             0.00        174246.39      9054781.76   \n",
       "582            3634960.67        209666.53        431222.25     84995692.59   \n",
       "641            1399127.07         15618.09        462406.10     22850366.54   \n",
       "848             392128.61          4936.79        111677.50      4339042.82   \n",
       "\n",
       "     Taxes Expense  Total Operating Expenses  Utilities Expense  Year Built  \n",
       "236      200818.13                2426128.70          566091.57      1969.0  \n",
       "440       20534.62                 215443.62           65690.83      1972.0  \n",
       "493      241007.82                 819063.26           19896.85      1988.0  \n",
       "582     1071560.48                2235783.05          110387.30      2015.0  \n",
       "641      433836.89                2201311.43          405747.42      1965.0  \n",
       "848       57949.97                 460003.39           88322.20      1971.0  "
      ]
     },
     "execution_count": 10,
     "metadata": {},
     "output_type": "execute_result"
    }
   ],
   "source": [
    "data3.loc[data3['State'] =='OH']"
   ]
  },
  {
   "cell_type": "code",
   "execution_count": 11,
   "metadata": {},
   "outputs": [
    {
     "data": {
      "text/html": [
       "<div>\n",
       "<style>\n",
       "    .dataframe thead tr:only-child th {\n",
       "        text-align: right;\n",
       "    }\n",
       "\n",
       "    .dataframe thead th {\n",
       "        text-align: left;\n",
       "    }\n",
       "\n",
       "    .dataframe tbody tr th {\n",
       "        vertical-align: top;\n",
       "    }\n",
       "</style>\n",
       "<table border=\"1\" class=\"dataframe\">\n",
       "  <thead>\n",
       "    <tr style=\"text-align: right;\">\n",
       "      <th></th>\n",
       "      <th>First Payment Date</th>\n",
       "      <th>Maturity Date</th>\n",
       "      <th>Zip</th>\n",
       "      <th>State</th>\n",
       "      <th>Effective Gross Income</th>\n",
       "      <th>Insurance Expense</th>\n",
       "      <th>Loan Amount</th>\n",
       "      <th>Maintenance Expense</th>\n",
       "      <th>Net Operating Income</th>\n",
       "      <th>Parking Expense</th>\n",
       "      <th>Payroll Expense</th>\n",
       "      <th>Property Value</th>\n",
       "      <th>Taxes Expense</th>\n",
       "      <th>Total Operating Expenses</th>\n",
       "      <th>Utilities Expense</th>\n",
       "      <th>Year Built</th>\n",
       "    </tr>\n",
       "  </thead>\n",
       "  <tbody>\n",
       "    <tr>\n",
       "      <th>403</th>\n",
       "      <td>2017-08-01</td>\n",
       "      <td>2027-07-01</td>\n",
       "      <td>84107</td>\n",
       "      <td>UT</td>\n",
       "      <td>496927.46</td>\n",
       "      <td>9325.91</td>\n",
       "      <td>0.00</td>\n",
       "      <td>72010.22</td>\n",
       "      <td>264743.80</td>\n",
       "      <td>5032.82</td>\n",
       "      <td>71158.93</td>\n",
       "      <td>4646432.20</td>\n",
       "      <td>23.95</td>\n",
       "      <td>225236.53</td>\n",
       "      <td>22114.67</td>\n",
       "      <td>1968.0</td>\n",
       "    </tr>\n",
       "    <tr>\n",
       "      <th>526</th>\n",
       "      <td>2016-12-01</td>\n",
       "      <td>2028-11-01</td>\n",
       "      <td>84119</td>\n",
       "      <td>UT</td>\n",
       "      <td>3995950.67</td>\n",
       "      <td>56193.12</td>\n",
       "      <td>36204240.98</td>\n",
       "      <td>253990.58</td>\n",
       "      <td>2590553.95</td>\n",
       "      <td>59569.24</td>\n",
       "      <td>433894.85</td>\n",
       "      <td>44613449.29</td>\n",
       "      <td>244807.33</td>\n",
       "      <td>1363219.35</td>\n",
       "      <td>89149.85</td>\n",
       "      <td>1985.0</td>\n",
       "    </tr>\n",
       "  </tbody>\n",
       "</table>\n",
       "</div>"
      ],
      "text/plain": [
       "    First Payment Date Maturity Date    Zip State  Effective Gross Income  \\\n",
       "403         2017-08-01    2027-07-01  84107    UT               496927.46   \n",
       "526         2016-12-01    2028-11-01  84119    UT              3995950.67   \n",
       "\n",
       "     Insurance Expense  Loan Amount  Maintenance Expense  \\\n",
       "403            9325.91         0.00             72010.22   \n",
       "526           56193.12  36204240.98            253990.58   \n",
       "\n",
       "     Net Operating Income  Parking Expense  Payroll Expense  Property Value  \\\n",
       "403             264743.80          5032.82         71158.93      4646432.20   \n",
       "526            2590553.95         59569.24        433894.85     44613449.29   \n",
       "\n",
       "     Taxes Expense  Total Operating Expenses  Utilities Expense  Year Built  \n",
       "403          23.95                 225236.53           22114.67      1968.0  \n",
       "526      244807.33                1363219.35           89149.85      1985.0  "
      ]
     },
     "execution_count": 11,
     "metadata": {},
     "output_type": "execute_result"
    }
   ],
   "source": [
    "data3.loc[data3['State'] =='UT']"
   ]
  },
  {
   "cell_type": "markdown",
   "metadata": {},
   "source": [
    "There are only two loans made on properties in UT. I don't think it's valid to compare a singleton to the average of a set, so I'm going to say Ohio has the highest average loan amount. "
   ]
  },
  {
   "cell_type": "markdown",
   "metadata": {},
   "source": [
    "## Which\tstate\thas\tthe\thighest\ttaxes\tas\ta\t%\tof\tproperty\tvalue?\t"
   ]
  },
  {
   "cell_type": "markdown",
   "metadata": {},
   "source": [
    "First we need to make our $\\frac{Taxes Expense}{Property Value}$ column. Some property values are $0$, which is bad. We want to make sure we dont mess with infinity . Let's define our percentage logic, but we're gonna need to do  similar operations later, so lets make a more general function and then adapt it for this question."
   ]
  },
  {
   "cell_type": "code",
   "execution_count": 12,
   "metadata": {},
   "outputs": [
    {
     "data": {
      "text/plain": [
       "count    931.000000\n",
       "mean       0.010141\n",
       "std        0.006895\n",
       "min        0.000000\n",
       "25%        0.005338\n",
       "50%        0.009132\n",
       "75%        0.013476\n",
       "max        0.044301\n",
       "Name: tax_pct, dtype: float64"
      ]
     },
     "execution_count": 12,
     "metadata": {},
     "output_type": "execute_result"
    }
   ],
   "source": [
    "def make_pct(df, col1, col2):\n",
    "    #want to throw an error if something goes wrong\n",
    "    res = 'error'\n",
    "    #check if denominator is zero, and then make the pct if it greater than zero\n",
    "    if df[col2] != 0:\n",
    "        res = df[col1] / df[col2]\n",
    "    else:\n",
    "        res = np.NaN\n",
    "    return(res)\n",
    "\n",
    "#define our general function to take Taxes Expense and Property Value\n",
    "def make_tax_pct(df):\n",
    "    res = make_pct(df, 'Taxes Expense', 'Property Value')\n",
    "    return(res)\n",
    "\n",
    "#apply it to the dataframe\n",
    "data3['tax_pct'] = data3.apply(make_tax_pct, axis=1)\n",
    "data3['tax_pct'].describe()"
   ]
  },
  {
   "cell_type": "markdown",
   "metadata": {},
   "source": [
    "Now we group by state and take the mean of taxes. Then we find the state with the max tax percentage\n"
   ]
  },
  {
   "cell_type": "code",
   "execution_count": 13,
   "metadata": {},
   "outputs": [
    {
     "data": {
      "text/plain": [
       "'CT'"
      ]
     },
     "execution_count": 13,
     "metadata": {},
     "output_type": "execute_result"
    }
   ],
   "source": [
    "taxes_by_state = data3.groupby('State').agg({'tax_pct':'mean'})\n",
    "taxes_by_state['tax_pct'].argmax()"
   ]
  },
  {
   "cell_type": "markdown",
   "metadata": {},
   "source": [
    "## Which\tvariable\tis\tthe\tstrongest\tpredictor\tof\tmaintenance\texpense\t(as\ta\tpercentage\tof\tproperty\tvalue)?"
   ]
  },
  {
   "cell_type": "code",
   "execution_count": 14,
   "metadata": {},
   "outputs": [
    {
     "data": {
      "text/plain": [
       "count    931.000000\n",
       "mean       0.007613\n",
       "std        0.006489\n",
       "min        0.000000\n",
       "25%        0.002420\n",
       "50%        0.006269\n",
       "75%        0.010926\n",
       "max        0.043343\n",
       "Name: maintenance_exp, dtype: float64"
      ]
     },
     "execution_count": 14,
     "metadata": {},
     "output_type": "execute_result"
    }
   ],
   "source": [
    "#We need to make our maintenance exp / property value feature. Thankfully we can do this easily with the function we created\n",
    "def make_maint_pct(df):\n",
    "    res = make_pct(df, 'Maintenance Expense', \"Property Value\")\n",
    "    return(res)\n",
    "\n",
    "#make the feature\n",
    "data3['maintenance_exp'] = data3.apply(make_maint_pct, axis=1)\n",
    "data3['maintenance_exp'].describe()"
   ]
  },
  {
   "cell_type": "markdown",
   "metadata": {},
   "source": [
    "There is information that we're missing out on. We can pull some of it out by transforming our data. We will start by calculating the distance to loan maturity. It can sometimes be a mantra that more granular data is better, but we're dealing with people and the decisions they make. Most people don't think about loans in terms of fractions of a month of year. So we will calculate 3 different measures of distance to loan maturity"
   ]
  },
  {
   "cell_type": "code",
   "execution_count": 15,
   "metadata": {},
   "outputs": [
    {
     "data": {
      "text/plain": [
       "((955, 21), (955, 60))"
      ]
     },
     "execution_count": 15,
     "metadata": {},
     "output_type": "execute_result"
    }
   ],
   "source": [
    "#The next three lines calculate the timedelta between Maturity and First Payment and then coverts them to numeric types\n",
    "data3['loan_length_days'] = ((data3['Maturity Date'] - data3['First Payment Date'])/np.timedelta64(1, 'D'))\n",
    "data3['loan_length_months'] = ((data3['Maturity Date'] - data3['First Payment Date'])/np.timedelta64(1, 'M')).apply(np.round)\n",
    "data3['loan_length_years'] = ((data3['Maturity Date'] - data3['First Payment Date'])/np.timedelta64(1, 'Y')).apply(np.round)\n",
    "\n",
    "#Let's use one-hot-encoding to pull information out of our state feature\n",
    "dora = Dora(output=\"maintenance_exp\", data =data3)\n",
    "dora.extract_ordinal_feature(\"State\")\n",
    "data4 = dora.data\n",
    "data3.shape, data4.shape"
   ]
  },
  {
   "cell_type": "code",
   "execution_count": 16,
   "metadata": {
    "collapsed": true
   },
   "outputs": [],
   "source": [
    "from scipy.stats import pearsonr\n",
    "def make_correls(df, dep_var):\n",
    "    #exclude the non-numerica vars and the vars we used to construct our measure \n",
    "    object_cols = ['Property Value', 'First Payment Date', 'Maturity Date','Zip', 'State', 'tax_pct', \"Maintenance Expense\"] + [dep_var]\n",
    "    correl_arr = {}\n",
    "    #iteratively generate the pearson coefficients for each variable\n",
    "    for indep_var in df.columns.difference(object_cols):\n",
    "        #remove bad rows\n",
    "        temp_df = df[[dep_var, indep_var]].dropna()\n",
    "        p_coeff, p_value = pearsonr(temp_df[dep_var], temp_df[indep_var])\n",
    "        name = dep_var +\" - \" + indep_var\n",
    "        temp_dict={ 'pearson coefficient':p_coeff, \"p_value\":p_value, 'abs pearson coefficient': np.abs(p_coeff)}\n",
    "        correl_arr[name] = temp_dict\n",
    "    res_df = pd.DataFrame.from_dict(correl_arr).transpose()\n",
    "    return(res_df)"
   ]
  },
  {
   "cell_type": "code",
   "execution_count": 17,
   "metadata": {},
   "outputs": [
    {
     "data": {
      "text/html": [
       "<div>\n",
       "<style>\n",
       "    .dataframe thead tr:only-child th {\n",
       "        text-align: right;\n",
       "    }\n",
       "\n",
       "    .dataframe thead th {\n",
       "        text-align: left;\n",
       "    }\n",
       "\n",
       "    .dataframe tbody tr th {\n",
       "        vertical-align: top;\n",
       "    }\n",
       "</style>\n",
       "<table border=\"1\" class=\"dataframe\">\n",
       "  <thead>\n",
       "    <tr style=\"text-align: right;\">\n",
       "      <th></th>\n",
       "      <th>abs pearson coefficient</th>\n",
       "      <th>p_value</th>\n",
       "      <th>pearson coefficient</th>\n",
       "    </tr>\n",
       "  </thead>\n",
       "  <tbody>\n",
       "    <tr>\n",
       "      <th>maintenance_exp - State=NY</th>\n",
       "      <td>0.482102</td>\n",
       "      <td>2.358147e-55</td>\n",
       "      <td>-0.482102</td>\n",
       "    </tr>\n",
       "    <tr>\n",
       "      <th>maintenance_exp - loan_length_years</th>\n",
       "      <td>0.387298</td>\n",
       "      <td>2.301085e-34</td>\n",
       "      <td>-0.387298</td>\n",
       "    </tr>\n",
       "    <tr>\n",
       "      <th>maintenance_exp - loan_length_days</th>\n",
       "      <td>0.387230</td>\n",
       "      <td>2.368614e-34</td>\n",
       "      <td>-0.387230</td>\n",
       "    </tr>\n",
       "    <tr>\n",
       "      <th>maintenance_exp - loan_length_months</th>\n",
       "      <td>0.387216</td>\n",
       "      <td>2.382206e-34</td>\n",
       "      <td>-0.387216</td>\n",
       "    </tr>\n",
       "    <tr>\n",
       "      <th>maintenance_exp - Year Built</th>\n",
       "      <td>0.306142</td>\n",
       "      <td>1.860714e-21</td>\n",
       "      <td>0.306142</td>\n",
       "    </tr>\n",
       "    <tr>\n",
       "      <th>maintenance_exp - Insurance Expense</th>\n",
       "      <td>0.290423</td>\n",
       "      <td>1.493497e-19</td>\n",
       "      <td>0.290423</td>\n",
       "    </tr>\n",
       "    <tr>\n",
       "      <th>maintenance_exp - Total Operating Expenses</th>\n",
       "      <td>0.267770</td>\n",
       "      <td>9.447057e-17</td>\n",
       "      <td>0.267770</td>\n",
       "    </tr>\n",
       "    <tr>\n",
       "      <th>maintenance_exp - Payroll Expense</th>\n",
       "      <td>0.242951</td>\n",
       "      <td>5.650568e-14</td>\n",
       "      <td>0.242951</td>\n",
       "    </tr>\n",
       "    <tr>\n",
       "      <th>maintenance_exp - State=MI</th>\n",
       "      <td>0.241518</td>\n",
       "      <td>8.005163e-14</td>\n",
       "      <td>0.241518</td>\n",
       "    </tr>\n",
       "    <tr>\n",
       "      <th>maintenance_exp - Utilities Expense</th>\n",
       "      <td>0.232133</td>\n",
       "      <td>7.413726e-13</td>\n",
       "      <td>0.232133</td>\n",
       "    </tr>\n",
       "    <tr>\n",
       "      <th>maintenance_exp - State=AL</th>\n",
       "      <td>0.227150</td>\n",
       "      <td>2.325280e-12</td>\n",
       "      <td>0.227150</td>\n",
       "    </tr>\n",
       "    <tr>\n",
       "      <th>maintenance_exp - Effective Gross Income</th>\n",
       "      <td>0.155639</td>\n",
       "      <td>1.827312e-06</td>\n",
       "      <td>0.155639</td>\n",
       "    </tr>\n",
       "    <tr>\n",
       "      <th>maintenance_exp - State=TX</th>\n",
       "      <td>0.151904</td>\n",
       "      <td>3.227983e-06</td>\n",
       "      <td>0.151904</td>\n",
       "    </tr>\n",
       "    <tr>\n",
       "      <th>maintenance_exp - State=MO</th>\n",
       "      <td>0.126207</td>\n",
       "      <td>1.128530e-04</td>\n",
       "      <td>0.126207</td>\n",
       "    </tr>\n",
       "    <tr>\n",
       "      <th>maintenance_exp - State=MD</th>\n",
       "      <td>0.122044</td>\n",
       "      <td>1.893620e-04</td>\n",
       "      <td>0.122044</td>\n",
       "    </tr>\n",
       "    <tr>\n",
       "      <th>maintenance_exp - State=MS</th>\n",
       "      <td>0.120528</td>\n",
       "      <td>2.277363e-04</td>\n",
       "      <td>0.120528</td>\n",
       "    </tr>\n",
       "    <tr>\n",
       "      <th>maintenance_exp - State=GA</th>\n",
       "      <td>0.119096</td>\n",
       "      <td>2.705619e-04</td>\n",
       "      <td>0.119096</td>\n",
       "    </tr>\n",
       "    <tr>\n",
       "      <th>maintenance_exp - State=DC</th>\n",
       "      <td>0.117148</td>\n",
       "      <td>3.409707e-04</td>\n",
       "      <td>0.117148</td>\n",
       "    </tr>\n",
       "    <tr>\n",
       "      <th>maintenance_exp - State=OH</th>\n",
       "      <td>0.110801</td>\n",
       "      <td>7.074618e-04</td>\n",
       "      <td>0.110801</td>\n",
       "    </tr>\n",
       "    <tr>\n",
       "      <th>maintenance_exp - State=NC</th>\n",
       "      <td>0.095523</td>\n",
       "      <td>3.529650e-03</td>\n",
       "      <td>0.095523</td>\n",
       "    </tr>\n",
       "    <tr>\n",
       "      <th>maintenance_exp - State=WI</th>\n",
       "      <td>0.090550</td>\n",
       "      <td>5.694740e-03</td>\n",
       "      <td>0.090550</td>\n",
       "    </tr>\n",
       "    <tr>\n",
       "      <th>maintenance_exp - State=CT</th>\n",
       "      <td>0.087518</td>\n",
       "      <td>7.542176e-03</td>\n",
       "      <td>0.087518</td>\n",
       "    </tr>\n",
       "    <tr>\n",
       "      <th>maintenance_exp - Taxes Expense</th>\n",
       "      <td>0.082464</td>\n",
       "      <td>1.183320e-02</td>\n",
       "      <td>0.082464</td>\n",
       "    </tr>\n",
       "    <tr>\n",
       "      <th>maintenance_exp - State=CA</th>\n",
       "      <td>0.082324</td>\n",
       "      <td>1.197783e-02</td>\n",
       "      <td>-0.082324</td>\n",
       "    </tr>\n",
       "    <tr>\n",
       "      <th>maintenance_exp - State=NJ</th>\n",
       "      <td>0.081419</td>\n",
       "      <td>1.295296e-02</td>\n",
       "      <td>-0.081419</td>\n",
       "    </tr>\n",
       "    <tr>\n",
       "      <th>maintenance_exp - State=OK</th>\n",
       "      <td>0.077472</td>\n",
       "      <td>1.806767e-02</td>\n",
       "      <td>0.077472</td>\n",
       "    </tr>\n",
       "    <tr>\n",
       "      <th>maintenance_exp - State=NV</th>\n",
       "      <td>0.071954</td>\n",
       "      <td>2.813582e-02</td>\n",
       "      <td>0.071954</td>\n",
       "    </tr>\n",
       "    <tr>\n",
       "      <th>maintenance_exp - State=IN</th>\n",
       "      <td>0.065929</td>\n",
       "      <td>4.431215e-02</td>\n",
       "      <td>0.065929</td>\n",
       "    </tr>\n",
       "    <tr>\n",
       "      <th>maintenance_exp - State=VA</th>\n",
       "      <td>0.063459</td>\n",
       "      <td>5.291476e-02</td>\n",
       "      <td>0.063459</td>\n",
       "    </tr>\n",
       "    <tr>\n",
       "      <th>maintenance_exp - State=TN</th>\n",
       "      <td>0.061730</td>\n",
       "      <td>5.972945e-02</td>\n",
       "      <td>0.061730</td>\n",
       "    </tr>\n",
       "    <tr>\n",
       "      <th>maintenance_exp - Net Operating Income</th>\n",
       "      <td>0.061396</td>\n",
       "      <td>6.112699e-02</td>\n",
       "      <td>0.061396</td>\n",
       "    </tr>\n",
       "    <tr>\n",
       "      <th>maintenance_exp - State=FL</th>\n",
       "      <td>0.057921</td>\n",
       "      <td>7.732620e-02</td>\n",
       "      <td>0.057921</td>\n",
       "    </tr>\n",
       "    <tr>\n",
       "      <th>maintenance_exp - State=IL</th>\n",
       "      <td>0.054249</td>\n",
       "      <td>9.807826e-02</td>\n",
       "      <td>-0.054249</td>\n",
       "    </tr>\n",
       "    <tr>\n",
       "      <th>maintenance_exp - State=MA</th>\n",
       "      <td>0.053797</td>\n",
       "      <td>1.009125e-01</td>\n",
       "      <td>-0.053797</td>\n",
       "    </tr>\n",
       "    <tr>\n",
       "      <th>maintenance_exp - State=OR</th>\n",
       "      <td>0.052383</td>\n",
       "      <td>1.102050e-01</td>\n",
       "      <td>0.052383</td>\n",
       "    </tr>\n",
       "    <tr>\n",
       "      <th>maintenance_exp - State=NE</th>\n",
       "      <td>0.052287</td>\n",
       "      <td>1.108618e-01</td>\n",
       "      <td>0.052287</td>\n",
       "    </tr>\n",
       "    <tr>\n",
       "      <th>maintenance_exp - State=CO</th>\n",
       "      <td>0.044210</td>\n",
       "      <td>1.777216e-01</td>\n",
       "      <td>0.044210</td>\n",
       "    </tr>\n",
       "    <tr>\n",
       "      <th>maintenance_exp - State=WA</th>\n",
       "      <td>0.043696</td>\n",
       "      <td>1.828192e-01</td>\n",
       "      <td>-0.043696</td>\n",
       "    </tr>\n",
       "    <tr>\n",
       "      <th>maintenance_exp - Parking Expense</th>\n",
       "      <td>0.034129</td>\n",
       "      <td>2.982219e-01</td>\n",
       "      <td>-0.034129</td>\n",
       "    </tr>\n",
       "    <tr>\n",
       "      <th>maintenance_exp - State=AZ</th>\n",
       "      <td>0.029876</td>\n",
       "      <td>3.625267e-01</td>\n",
       "      <td>0.029876</td>\n",
       "    </tr>\n",
       "    <tr>\n",
       "      <th>maintenance_exp - State=KS</th>\n",
       "      <td>0.029842</td>\n",
       "      <td>3.630660e-01</td>\n",
       "      <td>0.029842</td>\n",
       "    </tr>\n",
       "    <tr>\n",
       "      <th>maintenance_exp - State=LA</th>\n",
       "      <td>0.028707</td>\n",
       "      <td>3.816225e-01</td>\n",
       "      <td>0.028707</td>\n",
       "    </tr>\n",
       "    <tr>\n",
       "      <th>maintenance_exp - State=MN</th>\n",
       "      <td>0.027458</td>\n",
       "      <td>4.026789e-01</td>\n",
       "      <td>0.027458</td>\n",
       "    </tr>\n",
       "    <tr>\n",
       "      <th>maintenance_exp - Loan Amount</th>\n",
       "      <td>0.024052</td>\n",
       "      <td>4.635575e-01</td>\n",
       "      <td>0.024052</td>\n",
       "    </tr>\n",
       "    <tr>\n",
       "      <th>maintenance_exp - State=KY</th>\n",
       "      <td>0.022963</td>\n",
       "      <td>4.840428e-01</td>\n",
       "      <td>0.022963</td>\n",
       "    </tr>\n",
       "    <tr>\n",
       "      <th>maintenance_exp - State=UT</th>\n",
       "      <td>0.021338</td>\n",
       "      <td>5.155266e-01</td>\n",
       "      <td>0.021338</td>\n",
       "    </tr>\n",
       "    <tr>\n",
       "      <th>maintenance_exp - State=DE</th>\n",
       "      <td>0.019372</td>\n",
       "      <td>5.549638e-01</td>\n",
       "      <td>-0.019372</td>\n",
       "    </tr>\n",
       "    <tr>\n",
       "      <th>maintenance_exp - State=NM</th>\n",
       "      <td>0.018049</td>\n",
       "      <td>5.823014e-01</td>\n",
       "      <td>-0.018049</td>\n",
       "    </tr>\n",
       "    <tr>\n",
       "      <th>maintenance_exp - State=RI</th>\n",
       "      <td>0.014247</td>\n",
       "      <td>6.641860e-01</td>\n",
       "      <td>0.014247</td>\n",
       "    </tr>\n",
       "    <tr>\n",
       "      <th>maintenance_exp - State=SC</th>\n",
       "      <td>0.014009</td>\n",
       "      <td>6.694489e-01</td>\n",
       "      <td>-0.014009</td>\n",
       "    </tr>\n",
       "    <tr>\n",
       "      <th>maintenance_exp - State=AR</th>\n",
       "      <td>0.013812</td>\n",
       "      <td>6.738325e-01</td>\n",
       "      <td>-0.013812</td>\n",
       "    </tr>\n",
       "    <tr>\n",
       "      <th>maintenance_exp - State=NH</th>\n",
       "      <td>0.009820</td>\n",
       "      <td>7.647682e-01</td>\n",
       "      <td>-0.009820</td>\n",
       "    </tr>\n",
       "    <tr>\n",
       "      <th>maintenance_exp - State=PA</th>\n",
       "      <td>0.008849</td>\n",
       "      <td>7.874295e-01</td>\n",
       "      <td>0.008849</td>\n",
       "    </tr>\n",
       "  </tbody>\n",
       "</table>\n",
       "</div>"
      ],
      "text/plain": [
       "                                            abs pearson coefficient  \\\n",
       "maintenance_exp - State=NY                                 0.482102   \n",
       "maintenance_exp - loan_length_years                        0.387298   \n",
       "maintenance_exp - loan_length_days                         0.387230   \n",
       "maintenance_exp - loan_length_months                       0.387216   \n",
       "maintenance_exp - Year Built                               0.306142   \n",
       "maintenance_exp - Insurance Expense                        0.290423   \n",
       "maintenance_exp - Total Operating Expenses                 0.267770   \n",
       "maintenance_exp - Payroll Expense                          0.242951   \n",
       "maintenance_exp - State=MI                                 0.241518   \n",
       "maintenance_exp - Utilities Expense                        0.232133   \n",
       "maintenance_exp - State=AL                                 0.227150   \n",
       "maintenance_exp - Effective Gross Income                   0.155639   \n",
       "maintenance_exp - State=TX                                 0.151904   \n",
       "maintenance_exp - State=MO                                 0.126207   \n",
       "maintenance_exp - State=MD                                 0.122044   \n",
       "maintenance_exp - State=MS                                 0.120528   \n",
       "maintenance_exp - State=GA                                 0.119096   \n",
       "maintenance_exp - State=DC                                 0.117148   \n",
       "maintenance_exp - State=OH                                 0.110801   \n",
       "maintenance_exp - State=NC                                 0.095523   \n",
       "maintenance_exp - State=WI                                 0.090550   \n",
       "maintenance_exp - State=CT                                 0.087518   \n",
       "maintenance_exp - Taxes Expense                            0.082464   \n",
       "maintenance_exp - State=CA                                 0.082324   \n",
       "maintenance_exp - State=NJ                                 0.081419   \n",
       "maintenance_exp - State=OK                                 0.077472   \n",
       "maintenance_exp - State=NV                                 0.071954   \n",
       "maintenance_exp - State=IN                                 0.065929   \n",
       "maintenance_exp - State=VA                                 0.063459   \n",
       "maintenance_exp - State=TN                                 0.061730   \n",
       "maintenance_exp - Net Operating Income                     0.061396   \n",
       "maintenance_exp - State=FL                                 0.057921   \n",
       "maintenance_exp - State=IL                                 0.054249   \n",
       "maintenance_exp - State=MA                                 0.053797   \n",
       "maintenance_exp - State=OR                                 0.052383   \n",
       "maintenance_exp - State=NE                                 0.052287   \n",
       "maintenance_exp - State=CO                                 0.044210   \n",
       "maintenance_exp - State=WA                                 0.043696   \n",
       "maintenance_exp - Parking Expense                          0.034129   \n",
       "maintenance_exp - State=AZ                                 0.029876   \n",
       "maintenance_exp - State=KS                                 0.029842   \n",
       "maintenance_exp - State=LA                                 0.028707   \n",
       "maintenance_exp - State=MN                                 0.027458   \n",
       "maintenance_exp - Loan Amount                              0.024052   \n",
       "maintenance_exp - State=KY                                 0.022963   \n",
       "maintenance_exp - State=UT                                 0.021338   \n",
       "maintenance_exp - State=DE                                 0.019372   \n",
       "maintenance_exp - State=NM                                 0.018049   \n",
       "maintenance_exp - State=RI                                 0.014247   \n",
       "maintenance_exp - State=SC                                 0.014009   \n",
       "maintenance_exp - State=AR                                 0.013812   \n",
       "maintenance_exp - State=NH                                 0.009820   \n",
       "maintenance_exp - State=PA                                 0.008849   \n",
       "\n",
       "                                                 p_value  pearson coefficient  \n",
       "maintenance_exp - State=NY                  2.358147e-55            -0.482102  \n",
       "maintenance_exp - loan_length_years         2.301085e-34            -0.387298  \n",
       "maintenance_exp - loan_length_days          2.368614e-34            -0.387230  \n",
       "maintenance_exp - loan_length_months        2.382206e-34            -0.387216  \n",
       "maintenance_exp - Year Built                1.860714e-21             0.306142  \n",
       "maintenance_exp - Insurance Expense         1.493497e-19             0.290423  \n",
       "maintenance_exp - Total Operating Expenses  9.447057e-17             0.267770  \n",
       "maintenance_exp - Payroll Expense           5.650568e-14             0.242951  \n",
       "maintenance_exp - State=MI                  8.005163e-14             0.241518  \n",
       "maintenance_exp - Utilities Expense         7.413726e-13             0.232133  \n",
       "maintenance_exp - State=AL                  2.325280e-12             0.227150  \n",
       "maintenance_exp - Effective Gross Income    1.827312e-06             0.155639  \n",
       "maintenance_exp - State=TX                  3.227983e-06             0.151904  \n",
       "maintenance_exp - State=MO                  1.128530e-04             0.126207  \n",
       "maintenance_exp - State=MD                  1.893620e-04             0.122044  \n",
       "maintenance_exp - State=MS                  2.277363e-04             0.120528  \n",
       "maintenance_exp - State=GA                  2.705619e-04             0.119096  \n",
       "maintenance_exp - State=DC                  3.409707e-04             0.117148  \n",
       "maintenance_exp - State=OH                  7.074618e-04             0.110801  \n",
       "maintenance_exp - State=NC                  3.529650e-03             0.095523  \n",
       "maintenance_exp - State=WI                  5.694740e-03             0.090550  \n",
       "maintenance_exp - State=CT                  7.542176e-03             0.087518  \n",
       "maintenance_exp - Taxes Expense             1.183320e-02             0.082464  \n",
       "maintenance_exp - State=CA                  1.197783e-02            -0.082324  \n",
       "maintenance_exp - State=NJ                  1.295296e-02            -0.081419  \n",
       "maintenance_exp - State=OK                  1.806767e-02             0.077472  \n",
       "maintenance_exp - State=NV                  2.813582e-02             0.071954  \n",
       "maintenance_exp - State=IN                  4.431215e-02             0.065929  \n",
       "maintenance_exp - State=VA                  5.291476e-02             0.063459  \n",
       "maintenance_exp - State=TN                  5.972945e-02             0.061730  \n",
       "maintenance_exp - Net Operating Income      6.112699e-02             0.061396  \n",
       "maintenance_exp - State=FL                  7.732620e-02             0.057921  \n",
       "maintenance_exp - State=IL                  9.807826e-02            -0.054249  \n",
       "maintenance_exp - State=MA                  1.009125e-01            -0.053797  \n",
       "maintenance_exp - State=OR                  1.102050e-01             0.052383  \n",
       "maintenance_exp - State=NE                  1.108618e-01             0.052287  \n",
       "maintenance_exp - State=CO                  1.777216e-01             0.044210  \n",
       "maintenance_exp - State=WA                  1.828192e-01            -0.043696  \n",
       "maintenance_exp - Parking Expense           2.982219e-01            -0.034129  \n",
       "maintenance_exp - State=AZ                  3.625267e-01             0.029876  \n",
       "maintenance_exp - State=KS                  3.630660e-01             0.029842  \n",
       "maintenance_exp - State=LA                  3.816225e-01             0.028707  \n",
       "maintenance_exp - State=MN                  4.026789e-01             0.027458  \n",
       "maintenance_exp - Loan Amount               4.635575e-01             0.024052  \n",
       "maintenance_exp - State=KY                  4.840428e-01             0.022963  \n",
       "maintenance_exp - State=UT                  5.155266e-01             0.021338  \n",
       "maintenance_exp - State=DE                  5.549638e-01            -0.019372  \n",
       "maintenance_exp - State=NM                  5.823014e-01            -0.018049  \n",
       "maintenance_exp - State=RI                  6.641860e-01             0.014247  \n",
       "maintenance_exp - State=SC                  6.694489e-01            -0.014009  \n",
       "maintenance_exp - State=AR                  6.738325e-01            -0.013812  \n",
       "maintenance_exp - State=NH                  7.647682e-01            -0.009820  \n",
       "maintenance_exp - State=PA                  7.874295e-01             0.008849  "
      ]
     },
     "execution_count": 17,
     "metadata": {},
     "output_type": "execute_result"
    }
   ],
   "source": [
    "make_correls(data4, 'maintenance_exp').sort_values(by='abs pearson coefficient', ascending =False)"
   ]
  },
  {
   "cell_type": "code",
   "execution_count": 18,
   "metadata": {},
   "outputs": [
    {
     "data": {
      "text/html": [
       "<div>\n",
       "<style>\n",
       "    .dataframe thead tr:only-child th {\n",
       "        text-align: right;\n",
       "    }\n",
       "\n",
       "    .dataframe thead th {\n",
       "        text-align: left;\n",
       "    }\n",
       "\n",
       "    .dataframe tbody tr th {\n",
       "        vertical-align: top;\n",
       "    }\n",
       "</style>\n",
       "<table border=\"1\" class=\"dataframe\">\n",
       "  <thead>\n",
       "    <tr style=\"text-align: right;\">\n",
       "      <th></th>\n",
       "      <th>abs pearson coefficient</th>\n",
       "      <th>p_value</th>\n",
       "      <th>pearson coefficient</th>\n",
       "    </tr>\n",
       "  </thead>\n",
       "  <tbody>\n",
       "    <tr>\n",
       "      <th>maintenance_exp - loan_length_years</th>\n",
       "      <td>0.387298</td>\n",
       "      <td>2.301085e-34</td>\n",
       "      <td>-0.387298</td>\n",
       "    </tr>\n",
       "    <tr>\n",
       "      <th>maintenance_exp - loan_length_days</th>\n",
       "      <td>0.387230</td>\n",
       "      <td>2.368614e-34</td>\n",
       "      <td>-0.387230</td>\n",
       "    </tr>\n",
       "    <tr>\n",
       "      <th>maintenance_exp - loan_length_months</th>\n",
       "      <td>0.387216</td>\n",
       "      <td>2.382206e-34</td>\n",
       "      <td>-0.387216</td>\n",
       "    </tr>\n",
       "    <tr>\n",
       "      <th>maintenance_exp - Year Built</th>\n",
       "      <td>0.306142</td>\n",
       "      <td>1.860714e-21</td>\n",
       "      <td>0.306142</td>\n",
       "    </tr>\n",
       "    <tr>\n",
       "      <th>maintenance_exp - Insurance Expense</th>\n",
       "      <td>0.290423</td>\n",
       "      <td>1.493497e-19</td>\n",
       "      <td>0.290423</td>\n",
       "    </tr>\n",
       "    <tr>\n",
       "      <th>maintenance_exp - Total Operating Expenses</th>\n",
       "      <td>0.267770</td>\n",
       "      <td>9.447057e-17</td>\n",
       "      <td>0.267770</td>\n",
       "    </tr>\n",
       "    <tr>\n",
       "      <th>maintenance_exp - Payroll Expense</th>\n",
       "      <td>0.242951</td>\n",
       "      <td>5.650568e-14</td>\n",
       "      <td>0.242951</td>\n",
       "    </tr>\n",
       "    <tr>\n",
       "      <th>maintenance_exp - Utilities Expense</th>\n",
       "      <td>0.232133</td>\n",
       "      <td>7.413726e-13</td>\n",
       "      <td>0.232133</td>\n",
       "    </tr>\n",
       "    <tr>\n",
       "      <th>maintenance_exp - Effective Gross Income</th>\n",
       "      <td>0.155639</td>\n",
       "      <td>1.827312e-06</td>\n",
       "      <td>0.155639</td>\n",
       "    </tr>\n",
       "    <tr>\n",
       "      <th>maintenance_exp - Taxes Expense</th>\n",
       "      <td>0.082464</td>\n",
       "      <td>1.183320e-02</td>\n",
       "      <td>0.082464</td>\n",
       "    </tr>\n",
       "    <tr>\n",
       "      <th>maintenance_exp - Net Operating Income</th>\n",
       "      <td>0.061396</td>\n",
       "      <td>6.112699e-02</td>\n",
       "      <td>0.061396</td>\n",
       "    </tr>\n",
       "    <tr>\n",
       "      <th>maintenance_exp - Parking Expense</th>\n",
       "      <td>0.034129</td>\n",
       "      <td>2.982219e-01</td>\n",
       "      <td>-0.034129</td>\n",
       "    </tr>\n",
       "    <tr>\n",
       "      <th>maintenance_exp - Loan Amount</th>\n",
       "      <td>0.024052</td>\n",
       "      <td>4.635575e-01</td>\n",
       "      <td>0.024052</td>\n",
       "    </tr>\n",
       "  </tbody>\n",
       "</table>\n",
       "</div>"
      ],
      "text/plain": [
       "                                            abs pearson coefficient  \\\n",
       "maintenance_exp - loan_length_years                        0.387298   \n",
       "maintenance_exp - loan_length_days                         0.387230   \n",
       "maintenance_exp - loan_length_months                       0.387216   \n",
       "maintenance_exp - Year Built                               0.306142   \n",
       "maintenance_exp - Insurance Expense                        0.290423   \n",
       "maintenance_exp - Total Operating Expenses                 0.267770   \n",
       "maintenance_exp - Payroll Expense                          0.242951   \n",
       "maintenance_exp - Utilities Expense                        0.232133   \n",
       "maintenance_exp - Effective Gross Income                   0.155639   \n",
       "maintenance_exp - Taxes Expense                            0.082464   \n",
       "maintenance_exp - Net Operating Income                     0.061396   \n",
       "maintenance_exp - Parking Expense                          0.034129   \n",
       "maintenance_exp - Loan Amount                              0.024052   \n",
       "\n",
       "                                                 p_value  pearson coefficient  \n",
       "maintenance_exp - loan_length_years         2.301085e-34            -0.387298  \n",
       "maintenance_exp - loan_length_days          2.368614e-34            -0.387230  \n",
       "maintenance_exp - loan_length_months        2.382206e-34            -0.387216  \n",
       "maintenance_exp - Year Built                1.860714e-21             0.306142  \n",
       "maintenance_exp - Insurance Expense         1.493497e-19             0.290423  \n",
       "maintenance_exp - Total Operating Expenses  9.447057e-17             0.267770  \n",
       "maintenance_exp - Payroll Expense           5.650568e-14             0.242951  \n",
       "maintenance_exp - Utilities Expense         7.413726e-13             0.232133  \n",
       "maintenance_exp - Effective Gross Income    1.827312e-06             0.155639  \n",
       "maintenance_exp - Taxes Expense             1.183320e-02             0.082464  \n",
       "maintenance_exp - Net Operating Income      6.112699e-02             0.061396  \n",
       "maintenance_exp - Parking Expense           2.982219e-01            -0.034129  \n",
       "maintenance_exp - Loan Amount               4.635575e-01             0.024052  "
      ]
     },
     "execution_count": 18,
     "metadata": {},
     "output_type": "execute_result"
    }
   ],
   "source": [
    "#Ok, so it looks like being in NY state has major predictive power, but let's do it without all the noise of ordinal features\n",
    "make_correls(data3, 'maintenance_exp').sort_values(by='abs pearson coefficient', ascending =False)"
   ]
  },
  {
   "cell_type": "markdown",
   "metadata": {},
   "source": [
    "## What\tis\tyour\tinterpretation\tof\tthe\tresult?"
   ]
  },
  {
   "cell_type": "markdown",
   "metadata": {},
   "source": [
    "Let's take this answer in two parts, one with ordinal variables, and one without. If we treat the ordinal variables as a valid, then obviously, there is something funky going on with NY state. Why NY is such an outlier would probably make an interesting research topic, but if I was to hazard a guess I would say it has to do with how NY state allows building owners to write off maintenance expenses on their taxes. An alternative explanation is that NY, or at least NYC, has a much high concentration of super high value properties that require average maintenance costs. For example, if you had to pick between a brownstone in Kansas City or the upper east side, I would certainly choose the UES since the value of the land would be much higher.\n",
    "\n",
    "If we ignore the ordinal features, time to loan maturity, year built, and insurance expenses become our most highly correlated features. Year built is straightforward, more thing break in old buildings so they require more upkeep. Or older buildings may have less efficient systems that require more human intervention such as steam heat vs. central air. Insurance costs also makes intuitive sense. Certain amenities that are used to attract residents carry both higher maintenance and insurance costs, e.g. if you put in a pool you must take out extra insurance as well as hire someone to come and clean it regularly. Time to loan maturity is less straightforward. This is more of a shot in the dark, but maybe loans with more distant maturity dates are for newer buildings. That would explain the negative correlation while maintaining the validity of our other conclusions."
   ]
  },
  {
   "cell_type": "markdown",
   "metadata": {},
   "source": [
    "## What\tis\tthe\tmedian,\trange\tand\tvariance\tin Loan\tto\tValue\tof\tour\tloans? "
   ]
  },
  {
   "cell_type": "code",
   "execution_count": 19,
   "metadata": {},
   "outputs": [
    {
     "data": {
      "text/html": [
       "<div>\n",
       "<style>\n",
       "    .dataframe thead tr:only-child th {\n",
       "        text-align: right;\n",
       "    }\n",
       "\n",
       "    .dataframe thead th {\n",
       "        text-align: left;\n",
       "    }\n",
       "\n",
       "    .dataframe tbody tr th {\n",
       "        vertical-align: top;\n",
       "    }\n",
       "</style>\n",
       "<table border=\"1\" class=\"dataframe\">\n",
       "  <thead>\n",
       "    <tr style=\"text-align: right;\">\n",
       "      <th></th>\n",
       "      <th>LTV</th>\n",
       "    </tr>\n",
       "  </thead>\n",
       "  <tbody>\n",
       "    <tr>\n",
       "      <th>Median</th>\n",
       "      <td>0.685435</td>\n",
       "    </tr>\n",
       "    <tr>\n",
       "      <th>Range</th>\n",
       "      <td>1.621007</td>\n",
       "    </tr>\n",
       "    <tr>\n",
       "      <th>Variance</th>\n",
       "      <td>0.029766</td>\n",
       "    </tr>\n",
       "  </tbody>\n",
       "</table>\n",
       "</div>"
      ],
      "text/plain": [
       "               LTV\n",
       "Median    0.685435\n",
       "Range     1.621007\n",
       "Variance  0.029766"
      ]
     },
     "execution_count": 19,
     "metadata": {},
     "output_type": "execute_result"
    }
   ],
   "source": [
    "#first let's define loan to value\n",
    "def make_ltv(df):\n",
    "    res = make_pct(df, 'Loan Amount', \"Property Value\")\n",
    "    return(res)\n",
    "\n",
    "data3['LTV'] = data3.apply(make_ltv, axis=1)\n",
    "ltv_filter = data3.loc[(data3['Loan Amount'] != 0) & (data3['Property Value'] != 0) ]\n",
    "\n",
    "#Get descriptive stats of LTV\n",
    "ltv_desc = ltv_filter['LTV'].describe(percentiles = [.25, .5, .75, .90, .95])\n",
    "#Derive median, range, and variance and put them in a pretty table!\n",
    "ltv_stats = pd.DataFrame({'Median': ltv_filter['LTV'].median(),\n",
    "                          'Range': ltv_desc['max'] -  ltv_desc['min'],\n",
    "                          'Variance': ltv_desc['std']**2 }, index = [\"LTV\"]).transpose()\n",
    "ltv_stats\n"
   ]
  },
  {
   "cell_type": "code",
   "execution_count": 20,
   "metadata": {},
   "outputs": [
    {
     "data": {
      "text/html": [
       "<div>\n",
       "<style>\n",
       "    .dataframe thead tr:only-child th {\n",
       "        text-align: right;\n",
       "    }\n",
       "\n",
       "    .dataframe thead th {\n",
       "        text-align: left;\n",
       "    }\n",
       "\n",
       "    .dataframe tbody tr th {\n",
       "        vertical-align: top;\n",
       "    }\n",
       "</style>\n",
       "<table border=\"1\" class=\"dataframe\">\n",
       "  <thead>\n",
       "    <tr style=\"text-align: right;\">\n",
       "      <th></th>\n",
       "      <th>LTV</th>\n",
       "    </tr>\n",
       "  </thead>\n",
       "  <tbody>\n",
       "    <tr>\n",
       "      <th>count</th>\n",
       "      <td>809.000000</td>\n",
       "    </tr>\n",
       "    <tr>\n",
       "      <th>mean</th>\n",
       "      <td>0.641397</td>\n",
       "    </tr>\n",
       "    <tr>\n",
       "      <th>std</th>\n",
       "      <td>0.172528</td>\n",
       "    </tr>\n",
       "    <tr>\n",
       "      <th>min</th>\n",
       "      <td>0.027369</td>\n",
       "    </tr>\n",
       "    <tr>\n",
       "      <th>25%</th>\n",
       "      <td>0.607677</td>\n",
       "    </tr>\n",
       "    <tr>\n",
       "      <th>50%</th>\n",
       "      <td>0.685435</td>\n",
       "    </tr>\n",
       "    <tr>\n",
       "      <th>75%</th>\n",
       "      <td>0.758242</td>\n",
       "    </tr>\n",
       "    <tr>\n",
       "      <th>90%</th>\n",
       "      <td>0.789593</td>\n",
       "    </tr>\n",
       "    <tr>\n",
       "      <th>95%</th>\n",
       "      <td>0.804324</td>\n",
       "    </tr>\n",
       "    <tr>\n",
       "      <th>max</th>\n",
       "      <td>1.648376</td>\n",
       "    </tr>\n",
       "  </tbody>\n",
       "</table>\n",
       "</div>"
      ],
      "text/plain": [
       "              LTV\n",
       "count  809.000000\n",
       "mean     0.641397\n",
       "std      0.172528\n",
       "min      0.027369\n",
       "25%      0.607677\n",
       "50%      0.685435\n",
       "75%      0.758242\n",
       "90%      0.789593\n",
       "95%      0.804324\n",
       "max      1.648376"
      ]
     },
     "execution_count": 20,
     "metadata": {},
     "output_type": "execute_result"
    }
   ],
   "source": [
    "#expanded descriptive stats\n",
    "pd.DataFrame(ltv_desc)"
   ]
  },
  {
   "cell_type": "markdown",
   "metadata": {},
   "source": [
    "## What might\tthis\ttell\tus\tabout\thow\tdeterministic\tloan\tamount\tcalculations\tare?"
   ]
  },
  {
   "cell_type": "markdown",
   "metadata": {},
   "source": [
    "Loans amounts seem deterministic. LTV ratios exhibit a variance of 2% with a median of 65.54%. These seem like stable numbers, which is backed up the clustering we can see in the higher percentiles. This is a probably a result of the underwriting requirements of the securitizes of originated loans.\n"
   ]
  },
  {
   "cell_type": "markdown",
   "metadata": {},
   "source": [
    "## Do\tproperties\twith\tlarger valuations exhibit\tany\teconomies of\tscale with\tregard\tto\texpenses? Why\tdo\tyou\tthink\tthis\tis?"
   ]
  },
  {
   "cell_type": "code",
   "execution_count": 21,
   "metadata": {
    "collapsed": true
   },
   "outputs": [],
   "source": [
    "#read data into dora so we can look for non-linear relationships in the graphs\n",
    "dora_data = data3[['Effective Gross Income', 'Insurance Expense', 'Loan Amount',\n",
    "       'Maintenance Expense', 'Net Operating Income', 'Parking Expense',\n",
    "       'Payroll Expense', 'Property Value', 'Taxes Expense',\n",
    "       'Total Operating Expenses', 'Utilities Expense', 'Year Built',\n",
    "       'tax_pct', 'maintenance_exp', 'loan_length_days', 'loan_length_months',\n",
    "       'loan_length_years', 'LTV']].loc[(data3['Property Value'] > 0)]\n",
    "dora = Dora(output=\"Property Value\", data=dora_data)\n",
    "dora.snapshot('init')\n"
   ]
  },
  {
   "cell_type": "code",
   "execution_count": 22,
   "metadata": {},
   "outputs": [
    {
     "data": {
      "image/png": "[encoded data removed]",
      "text/plain": [
       "<matplotlib.figure.Figure at 0x1a107c9ba8>"
      ]
     },
     "metadata": {},
     "output_type": "display_data"
    },
    {
     "data": {
      "image/png": "[encoded data removed]",
      "text/plain": [
       "<matplotlib.figure.Figure at 0x1a11e9dfd0>"
      ]
     },
     "metadata": {},
     "output_type": "display_data"
    },
    {
     "data": {
      "image/png": "[encoded data removed]",
      "text/plain": [
       "<matplotlib.figure.Figure at 0x1a11f1bfd0>"
      ]
     },
     "metadata": {},
     "output_type": "display_data"
    },
    {
     "data": {
      "image/png": "[encoded data removed]",
      "text/plain": [
       "<matplotlib.figure.Figure at 0x1a122fc240>"
      ]
     },
     "metadata": {},
     "output_type": "display_data"
    },
    {
     "data": {
      "image/png": "[encoded data removed]",
      "text/plain": [
       "<matplotlib.figure.Figure at 0x1a11efbf98>"
      ]
     },
     "metadata": {},
     "output_type": "display_data"
    },
    {
     "data": {
      "image/png": "[encoded data removed]",
      "text/plain": [
       "<matplotlib.figure.Figure at 0x1a11fa6fd0>"
      ]
     },
     "metadata": {},
     "output_type": "display_data"
    },
    {
     "data": {
      "image/png": "[encoded data removed]",
      "text/plain": [
       "<matplotlib.figure.Figure at 0x10a6cefd0>"
      ]
     },
     "metadata": {},
     "output_type": "display_data"
    }
   ],
   "source": [
    "#Make all the plots\n",
    "dora.plot_feature(\"Insurance Expense\")\n",
    "dora.plot_feature('Maintenance Expense')\n",
    "dora.plot_feature('Parking Expense')\n",
    "dora.plot_feature('Payroll Expense')\n",
    "dora.plot_feature('Taxes Expense')\n",
    "dora.plot_feature('Utilities Expense')\n",
    "dora.plot_feature('Total Operating Expenses')"
   ]
  },
  {
   "cell_type": "markdown",
   "metadata": {},
   "source": [
    "There do seem to be some economies of scale with regard to expenses. The clearest quadratic relationship, think $y = x^2$, that we can observe in the data can be seen in the payroll expenses. This makes intuitive sense because higher value buildings will tend to be higher density thus boosting productivity of building employees, e.g. a 1000-unit building doesn’t need twice the doormen as a 500-unit building.\n",
    "\n",
    "The other categories of expenses don't seem to exhibit quadratic relationships. But these features seem to be highly heteroskedastic. It would be interesting to see how controlling for location, either through state or MSA, could reduce some of the underlying variance. Also, the parking expenses feature probably needs to have the zero values removed!"
   ]
  },
  {
   "cell_type": "markdown",
   "metadata": {},
   "source": [
    "## Please\tcreate\tgraphs\tdepicting\tthe\tfollowing.\tFeel\tfree\tto\tuse\tany\ttools\tthat\tyou\tthink\twould\thelp"
   ]
  },
  {
   "cell_type": "code",
   "execution_count": 23,
   "metadata": {},
   "outputs": [
    {
     "data": {
      "text/plain": [
       "count    945.000000\n",
       "mean       0.397674\n",
       "std        0.143912\n",
       "min        0.000000\n",
       "25%        0.307045\n",
       "50%        0.403261\n",
       "75%        0.502610\n",
       "max        0.949870\n",
       "Name: expense_ratio, dtype: float64"
      ]
     },
     "execution_count": 23,
     "metadata": {},
     "output_type": "execute_result"
    }
   ],
   "source": [
    "def make_expense_ratio(df):\n",
    "    res = make_pct(df, \"Total Operating Expenses\", 'Effective Gross Income')\n",
    "    return(res)\n",
    "\n",
    "data3['expense_ratio'] = data3.apply(make_expense_ratio, axis=1)\n",
    "data3['expense_ratio'].describe()"
   ]
  },
  {
   "cell_type": "code",
   "execution_count": 24,
   "metadata": {},
   "outputs": [
    {
     "data": {
      "image/png": "[encoded data removed]",
      "text/plain": [
       "<matplotlib.figure.Figure at 0x1a10ccadd8>"
      ]
     },
     "metadata": {},
     "output_type": "display_data"
    }
   ],
   "source": [
    "#Generate Chart\n",
    "data3.boxplot(column=\"expense_ratio\", \n",
    "              by=\"State\",\n",
    "             figsize = (15, 10))\n",
    "#Make the titles and axes nice\n",
    "plt.title(\"Expense Ratio by State\")\n",
    "plt.suptitle(\"\")\n",
    "plt.ylabel(\"Expense Ratio\")\n",
    "plt.show()"
   ]
  },
  {
   "cell_type": "markdown",
   "metadata": {},
   "source": [
    "## Relationship\tbetween\tage\tof\tproperty\tand\texpenses"
   ]
  },
  {
   "cell_type": "code",
   "execution_count": 25,
   "metadata": {},
   "outputs": [
    {
     "data": {
      "image/png": "[encoded data removed]",
      "text/plain": [
       "<matplotlib.figure.Figure at 0x1a1234a780>"
      ]
     },
     "metadata": {},
     "output_type": "display_data"
    },
    {
     "data": {
      "image/png": "[encoded data removed]",
      "text/plain": [
       "<matplotlib.figure.Figure at 0x108c5dd68>"
      ]
     },
     "metadata": {},
     "output_type": "display_data"
    },
    {
     "data": {
      "image/png": "[encoded data removed]",
      "text/plain": [
       "<matplotlib.figure.Figure at 0x1a11569470>"
      ]
     },
     "metadata": {},
     "output_type": "display_data"
    },
    {
     "data": {
      "image/png": "[encoded data removed]",
      "text/plain": [
       "<matplotlib.figure.Figure at 0x1a11b13fd0>"
      ]
     },
     "metadata": {},
     "output_type": "display_data"
    },
    {
     "data": {
      "image/png": "[encoded data removed]",
      "text/plain": [
       "<matplotlib.figure.Figure at 0x1a11610198>"
      ]
     },
     "metadata": {},
     "output_type": "display_data"
    },
    {
     "data": {
      "image/png": "[encoded data removed]",
      "text/plain": [
       "<matplotlib.figure.Figure at 0x1a11b13cf8>"
      ]
     },
     "metadata": {},
     "output_type": "display_data"
    },
    {
     "data": {
      "image/png": "[encoded data removed]",
      "text/plain": [
       "<matplotlib.figure.Figure at 0x1a10ccaf60>"
      ]
     },
     "metadata": {},
     "output_type": "display_data"
    }
   ],
   "source": [
    "#define property age\n",
    "data3['Property Age'] = 2017 - data3['Year Built']\n",
    "\n",
    "#drop some bad columns\n",
    "data3_prop_age = data3.loc[data3[\"Property Age\"] >0]\n",
    "\n",
    "#define the expnese columns\n",
    "expenses = [\"Insurance Expense\",\n",
    "            'Maintenance Expense',\n",
    "            'Parking Expense',\n",
    "            'Payroll Expense',\n",
    "            'Taxes Expense',\n",
    "            'Utilities Expense',\n",
    "            'Total Operating Expenses']\n",
    "\n",
    "#Dora is a great little package for data exploration. \n",
    "for expense in expenses:\n",
    "    dora_prop_age = Dora(output=expense, data=data3_prop_age)\n",
    "    dora_prop_age.plot_feature('Property Age')"
   ]
  },
  {
   "cell_type": "markdown",
   "metadata": {},
   "source": [
    "## Cumulative\tloan\tamount\tby\tfiscal\tquarter"
   ]
  },
  {
   "cell_type": "code",
   "execution_count": 26,
   "metadata": {},
   "outputs": [
    {
     "data": {
      "text/html": [
       "<div>\n",
       "<style>\n",
       "    .dataframe thead tr:only-child th {\n",
       "        text-align: right;\n",
       "    }\n",
       "\n",
       "    .dataframe thead th {\n",
       "        text-align: left;\n",
       "    }\n",
       "\n",
       "    .dataframe tbody tr th {\n",
       "        vertical-align: top;\n",
       "    }\n",
       "</style>\n",
       "<table border=\"1\" class=\"dataframe\">\n",
       "  <thead>\n",
       "    <tr style=\"text-align: right;\">\n",
       "      <th></th>\n",
       "      <th>First Payment Date</th>\n",
       "      <th>Maturity Date</th>\n",
       "      <th>Zip</th>\n",
       "      <th>State</th>\n",
       "      <th>Effective Gross Income</th>\n",
       "      <th>Insurance Expense</th>\n",
       "      <th>Loan Amount</th>\n",
       "      <th>Maintenance Expense</th>\n",
       "      <th>Net Operating Income</th>\n",
       "      <th>Parking Expense</th>\n",
       "      <th>...</th>\n",
       "      <th>maintenance_exp</th>\n",
       "      <th>loan_length_days</th>\n",
       "      <th>loan_length_months</th>\n",
       "      <th>loan_length_years</th>\n",
       "      <th>LTV</th>\n",
       "      <th>expense_ratio</th>\n",
       "      <th>Property Age</th>\n",
       "      <th>quarter</th>\n",
       "      <th>annual quarter</th>\n",
       "      <th>is_mature</th>\n",
       "    </tr>\n",
       "  </thead>\n",
       "  <tbody>\n",
       "    <tr>\n",
       "      <th>818</th>\n",
       "      <td>2016-07-01</td>\n",
       "      <td>2016-07-01</td>\n",
       "      <td>90814</td>\n",
       "      <td>CA</td>\n",
       "      <td>211290.52</td>\n",
       "      <td>5849.62</td>\n",
       "      <td>0.0</td>\n",
       "      <td>6265.17</td>\n",
       "      <td>128233.88</td>\n",
       "      <td>0.0</td>\n",
       "      <td>...</td>\n",
       "      <td>0.001789</td>\n",
       "      <td>0.0</td>\n",
       "      <td>0.0</td>\n",
       "      <td>0.0</td>\n",
       "      <td>0.0</td>\n",
       "      <td>0.388133</td>\n",
       "      <td>55.0</td>\n",
       "      <td>3</td>\n",
       "      <td>2017-03-01</td>\n",
       "      <td>-1</td>\n",
       "    </tr>\n",
       "    <tr>\n",
       "      <th>817</th>\n",
       "      <td>2016-07-01</td>\n",
       "      <td>2016-07-01</td>\n",
       "      <td>90814</td>\n",
       "      <td>CA</td>\n",
       "      <td>120690.06</td>\n",
       "      <td>3443.73</td>\n",
       "      <td>0.0</td>\n",
       "      <td>5514.74</td>\n",
       "      <td>74518.19</td>\n",
       "      <td>0.0</td>\n",
       "      <td>...</td>\n",
       "      <td>0.003071</td>\n",
       "      <td>0.0</td>\n",
       "      <td>0.0</td>\n",
       "      <td>0.0</td>\n",
       "      <td>0.0</td>\n",
       "      <td>0.373260</td>\n",
       "      <td>54.0</td>\n",
       "      <td>3</td>\n",
       "      <td>2017-03-01</td>\n",
       "      <td>-1</td>\n",
       "    </tr>\n",
       "  </tbody>\n",
       "</table>\n",
       "<p>2 rows × 27 columns</p>\n",
       "</div>"
      ],
      "text/plain": [
       "    First Payment Date Maturity Date    Zip State  Effective Gross Income  \\\n",
       "818         2016-07-01    2016-07-01  90814    CA               211290.52   \n",
       "817         2016-07-01    2016-07-01  90814    CA               120690.06   \n",
       "\n",
       "     Insurance Expense  Loan Amount  Maintenance Expense  \\\n",
       "818            5849.62          0.0              6265.17   \n",
       "817            3443.73          0.0              5514.74   \n",
       "\n",
       "     Net Operating Income  Parking Expense    ...      maintenance_exp  \\\n",
       "818             128233.88              0.0    ...             0.001789   \n",
       "817              74518.19              0.0    ...             0.003071   \n",
       "\n",
       "     loan_length_days  loan_length_months  loan_length_years  LTV  \\\n",
       "818               0.0                 0.0                0.0  0.0   \n",
       "817               0.0                 0.0                0.0  0.0   \n",
       "\n",
       "     expense_ratio  Property Age  quarter  annual quarter  is_mature  \n",
       "818       0.388133          55.0        3      2017-03-01         -1  \n",
       "817       0.373260          54.0        3      2017-03-01         -1  \n",
       "\n",
       "[2 rows x 27 columns]"
      ]
     },
     "execution_count": 26,
     "metadata": {},
     "output_type": "execute_result"
    }
   ],
   "source": [
    "from pandas.tseries.offsets import *\n",
    "date =data3.sort_values('First Payment Date', ascending=True)\n",
    "date = date.loc[date['First Payment Date'].isnull() == False]\n",
    "\n",
    "date['quarter'] = date['First Payment Date'].dt.quarter\n",
    "date['annual quarter'] = date.apply(lambda x:(x['First Payment Date'] + BQuarterBegin(x['quarter'])), axis=1)\n",
    "\n",
    "#Check for loans that are maturing during our time horizon\n",
    "def is_mature(df):\n",
    "    if df[\"Maturity Date\"] == df['First Payment Date']:\n",
    "        res = -1\n",
    "    else:\n",
    "        res =1\n",
    "    return(res)\n",
    "date['is_mature'] = date.apply(is_mature, axis =1)\n",
    "#ok, so all the loans that mature during our window have a loan amount of zero. Thanks, that makes this easier!\n",
    "date[date['is_mature']==-1]\n"
   ]
  },
  {
   "cell_type": "code",
   "execution_count": 27,
   "metadata": {
    "collapsed": true
   },
   "outputs": [],
   "source": [
    "#Going to do some funky groupings so i'll isolate a new date frame\n",
    "date2 = date\n",
    "date2.set_index(date['annual quarter'], inplace=True)\n",
    "#get bounds on time window\n",
    "date_info = date['annual quarter'].describe()\n",
    "#timeseries groupings and cumulative sums, this one took some fiddiling and feels more like black magic than good code\n",
    "date3=date2.loc[date_info['first'].date():date_info['last']]['Loan Amount'].reset_index()\n",
    "cumulative_loans_by_qt = date3.groupby(by=['annual quarter']).sum().groupby(level=[0]).cumsum()\n"
   ]
  },
  {
   "cell_type": "code",
   "execution_count": 28,
   "metadata": {},
   "outputs": [
    {
     "data": {
      "text/plain": [
       "<matplotlib.axes._subplots.AxesSubplot at 0x1a1a95c0b8>"
      ]
     },
     "execution_count": 28,
     "metadata": {},
     "output_type": "execute_result"
    },
    {
     "data": {
      "image/png": "[encoded data removed]",
      "text/plain": [
       "<matplotlib.figure.Figure at 0x1a1a961320>"
      ]
     },
     "metadata": {},
     "output_type": "display_data"
    }
   ],
   "source": [
    "cumulative_loans_by_qt.index.name='Fiscal quarter'\n",
    "cumulative_loans_by_qt.plot()\n"
   ]
  },
  {
   "cell_type": "markdown",
   "metadata": {},
   "source": [
    "Wanted to note that the above graph is in nominal terms. We could improve the usefulness of this metric by discounting by the WACC and adjusting for inflation. "
   ]
  },
  {
   "cell_type": "markdown",
   "metadata": {
    "collapsed": true
   },
   "source": [
    "## Using\tScikit-Learn\tor\ta\tlibrary of\tyour\tchoice,\tcreate\ta\tmodel that\tpredicts\tloan\tto\tvalue.\tHow\taccurate\tis\tyour\tmodel?\t"
   ]
  },
  {
   "cell_type": "markdown",
   "metadata": {},
   "source": [
    "So having conducted a __[brief survey](http://mitsloan.mit.edu/media/Lo_ConsumerCreditRiskModels.pdf)__ __[of the literature](https://bfi.uchicago.edu/sites/default/files/file_uploads/Slides%20Giesecke.pdf)__, it appears that there is evidence of complex non-linear relationships between property characteristics and LTV ratios. From what we've seen of the data so far, I tend to support this idea. To account for this, we're going to need to use non-linear models. We don't have a lot of data to work with here, so I'm going to stay away from fancier ML techniques, such as NNs, which require more data to avoid overfitting. That pretty much leaves us with tree based models (I don't like using things like SVMs because they're too easy to get wrong). There are many different tree model packages, but I've had really good results working with XGBoost so I'll use it here. "
   ]
  },
  {
   "cell_type": "markdown",
   "metadata": {},
   "source": [
    "Normally I would use construct a k-folds cross validation set, but since we're dealing with less tha 1k records I dont want to reduce my sample size any more than I have to. So this model will simply be a train/test split.\n"
   ]
  },
  {
   "cell_type": "code",
   "execution_count": 29,
   "metadata": {},
   "outputs": [
    {
     "name": "stderr",
     "output_type": "stream",
     "text": [
      "/Users/tdaly/miniconda3/envs/greystone/lib/python3.6/site-packages/sklearn/cross_validation.py:41: DeprecationWarning: This module was deprecated in version 0.18 in favor of the model_selection module into which all the refactored classes and functions are moved. Also note that the interface of the new CV iterators are different from that of this module. This module will be removed in 0.20.\n",
      "  \"This module will be removed in 0.20.\", DeprecationWarning)\n"
     ]
    }
   ],
   "source": [
    "#Read in packages needed to do the modeling\n",
    "from sklearn.model_selection import train_test_split\n",
    "from xgboost import XGBRegressor #note: Xcode doesnt support OpenMP multi-threading, which XGBoost uses. To fix this you run 'brew install gcc@5' in the terminal to fix.\n",
    "import xgboost as xgb\n",
    "from sklearn.metrics import r2_score, mean_squared_error, median_absolute_error, explained_variance_score\n",
    "\n",
    "\n",
    "#So I realized that I might want to run multiple data sets, I'm just going to make this into a function\n",
    "def model_magic(df, target_col, bad_features, max_tree_depth):\n",
    "    #remove bad features and drop rows with a null target\n",
    "    model_data = df[df.columns.difference(bad_features)].dropna(axis=0, subset=[target_col])\n",
    "    #we also want to remove any targets that have  LTV of 0. LTV=0 doesn't make any sense since we're giving them loans\n",
    "    model_data2 = model_data.loc[model_data['LTV']>0]\n",
    "    \n",
    "    #split dataframe in to target and features\n",
    "    target = model_data2[target_col]\n",
    "    features = model_data2.drop([target_col], axis =1)\n",
    "    #remove whitespace from feature names. Whitespace breaks xgboost for some reason\n",
    "    features.columns = [c.replace(' ', '_') for c in features.columns]\n",
    "    seed =4\n",
    "    \n",
    "    #so normally I would use construct a k-folds cross validation set, but since we're dealing with less tha 1k records I dont want to reduce my sample size any more than I have to. So this model will simply be a train/test split.\n",
    "    feature_train, feature_test, target_train, target_test = train_test_split(features, target, test_size=0.3, random_state=seed)\n",
    "    \n",
    "    #build the model\n",
    "    model = XGBRegressor(max_depth=max_tree_depth)\n",
    "    model.fit(feature_train, target_train)\n",
    "    \n",
    "    #make prediction\n",
    "    target_pred = model.predict(feature_test)\n",
    "    #get model scores\n",
    "    r2 = r2_score(target_test, target_pred)\n",
    "    mean_sq_error = mean_squared_error(target_test, target_pred)\n",
    "    median_abs_error = median_absolute_error(target_test, target_pred)\n",
    "    expl_var_score = explained_variance_score(target_test, target_pred)\n",
    "    \n",
    "    score_df  =pd.DataFrame({\"R^2 Score\": r2,\n",
    "                             \"Mean Squared Error\": mean_sq_error,\n",
    "                             \"Median Absolute Error\": median_abs_error},\n",
    "                             index =[\"Model\"]).transpose()\n",
    "    return(score_df)"
   ]
  },
  {
   "cell_type": "code",
   "execution_count": 30,
   "metadata": {},
   "outputs": [
    {
     "name": "stdout",
     "output_type": "stream",
     "text": [
      "count    809.000000\n",
      "mean       0.641397\n",
      "std        0.172528\n",
      "min        0.027369\n",
      "25%        0.607677\n",
      "50%        0.685435\n",
      "75%        0.758242\n",
      "max        1.648376\n",
      "Name: LTV, dtype: float64\n",
      "0.0297659030406\n"
     ]
    }
   ],
   "source": [
    "#Lets drop a description of LTV here for reference\n",
    "ltv_desc = data3.loc[data3['LTV']>0]\n",
    "print(ltv_desc['LTV'].dropna(axis=0).describe()) \n",
    "print(ltv_desc['LTV'].dropna(axis=0).describe()['std']**2)"
   ]
  },
  {
   "cell_type": "code",
   "execution_count": 31,
   "metadata": {},
   "outputs": [
    {
     "data": {
      "text/html": [
       "<div>\n",
       "<style>\n",
       "    .dataframe thead tr:only-child th {\n",
       "        text-align: right;\n",
       "    }\n",
       "\n",
       "    .dataframe thead th {\n",
       "        text-align: left;\n",
       "    }\n",
       "\n",
       "    .dataframe tbody tr th {\n",
       "        vertical-align: top;\n",
       "    }\n",
       "</style>\n",
       "<table border=\"1\" class=\"dataframe\">\n",
       "  <thead>\n",
       "    <tr style=\"text-align: right;\">\n",
       "      <th></th>\n",
       "      <th>Model</th>\n",
       "    </tr>\n",
       "  </thead>\n",
       "  <tbody>\n",
       "    <tr>\n",
       "      <th>Mean Squared Error</th>\n",
       "      <td>0.018424</td>\n",
       "    </tr>\n",
       "    <tr>\n",
       "      <th>Median Absolute Error</th>\n",
       "      <td>0.085932</td>\n",
       "    </tr>\n",
       "    <tr>\n",
       "      <th>R^2 Score</th>\n",
       "      <td>0.107538</td>\n",
       "    </tr>\n",
       "  </tbody>\n",
       "</table>\n",
       "</div>"
      ],
      "text/plain": [
       "                          Model\n",
       "Mean Squared Error     0.018424\n",
       "Median Absolute Error  0.085932\n",
       "R^2 Score              0.107538"
      ]
     },
     "execution_count": 31,
     "metadata": {},
     "output_type": "execute_result"
    }
   ],
   "source": [
    "#define features we don't want in our data\n",
    "bad_features = ['First Payment Date',\n",
    "                'Maturity Date',\n",
    "                'Zip', \n",
    "                'Loan Amount',\n",
    "                'Property Value',\n",
    "                'Year Built',\n",
    "                'tax_pct',\n",
    "                'maintenance_exp',\n",
    "                'loan_length_months', # We don't want collinear features, so we will remove the least powerful time vars \n",
    "                'loan_length_days',\n",
    "                'State']\n",
    "model_magic(data3, \"LTV\", bad_features=bad_features, max_tree_depth=3)"
   ]
  },
  {
   "cell_type": "markdown",
   "metadata": {},
   "source": [
    "Ok, so this model is sort of a mixed bag. Our $R^2$ score, a measure of how well our model fits our data, is pretty low. Generally the closer to 1 we can get the $R^2$ score the better, so a score of $0.107538$ isn't great. On the other hand, our Mean Squared Error (MSE) is very low. MSE is a measure of how far off our average prediction is, so the closer we can get it to $0$ the better our model performs. The Median Absolute Error (MAE) is another measure a measure of how far off predictions are but because we're taking median of all the differences, it is robust to outliers. This suggests that our model is does a better job of making predictions on the tails of LTV distribution, but doesn't do as well of predicting LTV's closer to the median. \n",
    "\n",
    "Overall, this suggest that our data is noisy, lacks sufficient explanatory power, or both."
   ]
  },
  {
   "cell_type": "markdown",
   "metadata": {},
   "source": [
    "## What\twould\tbe\trequired\tto\timprove\tthis\tscore?"
   ]
  },
  {
   "cell_type": "markdown",
   "metadata": {},
   "source": [
    "The gimmie answer here is more data. Thankfully there is a lot of data floating around out there, but I think we can improve our model without having to go out and append additional data. We can use the State variable to try and control for some of the variance introduced by geography. "
   ]
  },
  {
   "cell_type": "code",
   "execution_count": 32,
   "metadata": {},
   "outputs": [
    {
     "data": {
      "text/html": [
       "<div>\n",
       "<style>\n",
       "    .dataframe thead tr:only-child th {\n",
       "        text-align: right;\n",
       "    }\n",
       "\n",
       "    .dataframe thead th {\n",
       "        text-align: left;\n",
       "    }\n",
       "\n",
       "    .dataframe tbody tr th {\n",
       "        vertical-align: top;\n",
       "    }\n",
       "</style>\n",
       "<table border=\"1\" class=\"dataframe\">\n",
       "  <thead>\n",
       "    <tr style=\"text-align: right;\">\n",
       "      <th></th>\n",
       "      <th>Model</th>\n",
       "    </tr>\n",
       "  </thead>\n",
       "  <tbody>\n",
       "    <tr>\n",
       "      <th>Mean Squared Error</th>\n",
       "      <td>0.015574</td>\n",
       "    </tr>\n",
       "    <tr>\n",
       "      <th>Median Absolute Error</th>\n",
       "      <td>0.072058</td>\n",
       "    </tr>\n",
       "    <tr>\n",
       "      <th>R^2 Score</th>\n",
       "      <td>0.245599</td>\n",
       "    </tr>\n",
       "  </tbody>\n",
       "</table>\n",
       "</div>"
      ],
      "text/plain": [
       "                          Model\n",
       "Mean Squared Error     0.015574\n",
       "Median Absolute Error  0.072058\n",
       "R^2 Score              0.245599"
      ]
     },
     "execution_count": 32,
     "metadata": {},
     "output_type": "execute_result"
    }
   ],
   "source": [
    "bad_features = ['First Payment Date',\n",
    "                'Maturity Date',\n",
    "                'Zip', \n",
    "                'Loan Amount',\n",
    "                'Property Value',\n",
    "                'Year Built',\n",
    "                'tax_pct',\n",
    "                'maintenance_exp',\n",
    "                'loan_length_months', # We don't want collinear features, so we will remove the least powerful time vars \n",
    "                'loan_length_days']\n",
    "#extract ordinal features\n",
    "data3_with_states = Dora(output=\"LTV\", data=data3)\n",
    "data3_with_states.extract_ordinal_feature(\"State\")\n",
    "\n",
    "#build new model\n",
    "model_magic(data3_with_states.data, \"LTV\", bad_features=bad_features, max_tree_depth=3)"
   ]
  },
  {
   "cell_type": "markdown",
   "metadata": {},
   "source": [
    "Wonderful! We've more than doubled the $R^2$ score of our model while reducing The MSE and MAE. This model still isn't performing all that well, but it definite improvement over the previous version. However, there are some additional problems. By extracting ordinal features, we've massively increased the number of features for consideration. This has probably led to some overfitting by our model. This isn't great, but without more data we are limited in what we can do to correct for this. \n",
    "\n",
    "But what do we need to get an even better model? I can think of a couple of things off the top of my head:\n",
    "\n",
    "1. **More Records**: Our original data set only contains 967 records. This is limits us in a couple of ways. The most limiting factor to working with data this size is that our model may not be able to extract sufficient signal from noise. Another way this limits us is that we can't perform cross-validation on a data set of this size. Cross-validation would help us ward off some concerns about overfitting.\n",
    "\n",
    "2. **More Features:** Adding additional features will allow us to identify additional signal and thus increase our model's predictive power. Here is a data wish list:\n",
    "    * Collocated real estate data: What are the prices for multi-family buildings in the immediate area? What is the property's proximity to local amenities? \n",
    "    * Geographic Data: What are the neighborhood schools like? How walkable is the surrounding area? What sort of public transit is in the area?\n",
    "    * Borrower Data: What is the credit score of the borrower? Is the borrower an individual or a person? What is the borrower's annual income? Are they projected to be profitable in the future?\n",
    "    \n",
    "3. **Time Series Data:** Basically all the data described in (2), but over time. Loan to Value ratio will change over time, so we want to be able to predict how property value will change over time. Being better able to predict property value would have beneficial business impacts as it would reduce future leverage, thus allowing us to write more loans. \n",
    "\n",
    "4. **Fill Missing Values:** This is pretty basic, but important. I understand that the missing values were probably included to see how I dealt with NaNs and such, but a loan company should keep *really* detailed records on things like property value.\n"
   ]
  }
 ],
 "metadata": {
  "kernelspec": {
   "display_name": "Python 3",
   "language": "python",
   "name": "python3"
  },
  "language_info": {
   "codemirror_mode": {
    "name": "ipython",
    "version": 3
   },
   "file_extension": ".py",
   "mimetype": "text/x-python",
   "name": "python",
   "nbconvert_exporter": "python",
   "pygments_lexer": "ipython3",
   "version": "3.6.3"
  }
 },
 "nbformat": 4,
 "nbformat_minor": 2
}
